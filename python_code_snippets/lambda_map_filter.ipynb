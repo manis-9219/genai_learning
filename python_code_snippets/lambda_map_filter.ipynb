{
 "cells": [
  {
   "cell_type": "markdown",
   "metadata": {},
   "source": [
    "## This notebook talks about lambda functions or anonymous functions "
   ]
  },
  {
   "cell_type": "code",
   "execution_count": 1,
   "metadata": {},
   "outputs": [
    {
     "name": "stdout",
     "output_type": "stream",
     "text": [
      "176\n"
     ]
    }
   ],
   "source": [
    "# def add(a,b):\n",
    "#     return a + b\n",
    "\n",
    "# print(add(2,89))\n",
    "\n",
    "# creating the lambda function\n",
    "sum = lambda a,b : a + b\n",
    "# calling the function\n",
    "print(sum(89,87))\n",
    "\n"
   ]
  },
  {
   "cell_type": "markdown",
   "metadata": {},
   "source": [
    "The above things works fine but how about if we pass an iterable like a list , map () applies a function to all items in a list"
   ]
  },
  {
   "cell_type": "code",
   "execution_count": 2,
   "metadata": {},
   "outputs": [
    {
     "data": {
      "text/plain": [
       "<map at 0x1037054f0>"
      ]
     },
     "execution_count": 2,
     "metadata": {},
     "output_type": "execute_result"
    }
   ],
   "source": [
    "numbers = [2,3,4,5,6]\n",
    "map(lambda x: x ** 2, numbers)"
   ]
  },
  {
   "cell_type": "code",
   "execution_count": 3,
   "metadata": {},
   "outputs": [
    {
     "data": {
      "text/plain": [
       "[4, 9, 16, 25, 36]"
      ]
     },
     "execution_count": 3,
     "metadata": {},
     "output_type": "execute_result"
    }
   ],
   "source": [
    "numbers = [2,3,4,5,6]\n",
    "list(map(lambda x: x ** 2, numbers))"
   ]
  },
  {
   "cell_type": "markdown",
   "metadata": {},
   "source": [
    "## Map function in python"
   ]
  },
  {
   "cell_type": "code",
   "execution_count": 6,
   "metadata": {},
   "outputs": [],
   "source": [
    "def square(x):\n",
    "    return x*x"
   ]
  },
  {
   "cell_type": "code",
   "execution_count": 10,
   "metadata": {},
   "outputs": [
    {
     "name": "stdout",
     "output_type": "stream",
     "text": [
      "[4, 9, 16, 25, 36, 49]\n"
     ]
    }
   ],
   "source": [
    "numbers = [2,3,4,5,6,7]\n",
    "a = map(square, numbers)\n",
    "print(list(a))"
   ]
  },
  {
   "cell_type": "markdown",
   "metadata": {},
   "source": [
    "#### map takes parameters map(function, iterable)"
   ]
  },
  {
   "cell_type": "code",
   "execution_count": 14,
   "metadata": {},
   "outputs": [
    {
     "data": {
      "text/plain": [
       "[4, 9, 16, 25, 36, 49]"
      ]
     },
     "execution_count": 14,
     "metadata": {},
     "output_type": "execute_result"
    }
   ],
   "source": [
    "# lambda function with map \n",
    "\n",
    "list(map(lambda x: x*x, numbers))"
   ]
  },
  {
   "cell_type": "code",
   "execution_count": 15,
   "metadata": {},
   "outputs": [
    {
     "data": {
      "text/plain": [
       "[3, 5, 7, 9]"
      ]
     },
     "execution_count": 15,
     "metadata": {},
     "output_type": "execute_result"
    }
   ],
   "source": [
    "# map mutliple iterables\n",
    "\n",
    "numbers1 = [1,2,3,4]\n",
    "numbers2 = [2,3,4,5]\n",
    "added = list(map(lambda x, y : x +y, numbers1, numbers2))\n",
    "added"
   ]
  },
  {
   "cell_type": "code",
   "execution_count": 16,
   "metadata": {},
   "outputs": [
    {
     "data": {
      "text/plain": [
       "[12, 23, 98]"
      ]
     },
     "execution_count": 16,
     "metadata": {},
     "output_type": "execute_result"
    }
   ],
   "source": [
    "## map() to convert a list of string to integers\n",
    "\n",
    "str_numbers = ['12','23', '98']\n",
    "list(map(int, str_numbers))"
   ]
  },
  {
   "cell_type": "code",
   "execution_count": 18,
   "metadata": {},
   "outputs": [
    {
     "name": "stdout",
     "output_type": "stream",
     "text": [
      "['MANISH', 'NISHA', 'RAGHAV']\n"
     ]
    }
   ],
   "source": [
    "# convert to uppercase \n",
    "\n",
    "words = ['Manish', 'Nisha', 'Raghav']\n",
    "uppercase_words = list(map(str.upper, words))\n",
    "print(uppercase_words)"
   ]
  },
  {
   "cell_type": "code",
   "execution_count": 22,
   "metadata": {},
   "outputs": [
    {
     "data": {
      "text/plain": [
       "['Manish', 'Nisha']"
      ]
     },
     "execution_count": 22,
     "metadata": {},
     "output_type": "execute_result"
    }
   ],
   "source": [
    "# applying map to dictionary\n",
    "\n",
    "def get_name(person):\n",
    "    return person['Name']\n",
    "\n",
    "people = [{'Name': 'Manish', 'Age': 32}, {'Name': 'Nisha', 'Age': 27}]\n",
    "\n",
    "list(map(get_name, people))"
   ]
  },
  {
   "cell_type": "markdown",
   "metadata": {},
   "source": [
    "# filter() function\n",
    "\n",
    "#### filter() funciton constructs asn iterator from elements of an iterable for which a condition returns true . It is used to filter out items from a list (or any other iterable) based on a condition"
   ]
  },
  {
   "cell_type": "code",
   "execution_count": 1,
   "metadata": {},
   "outputs": [
    {
     "data": {
      "text/plain": [
       "False"
      ]
     },
     "execution_count": 1,
     "metadata": {},
     "output_type": "execute_result"
    }
   ],
   "source": [
    "def even(x):\n",
    "    if x % 2 == 0:\n",
    "        return True\n",
    "    return False\n",
    "\n",
    "even(23)"
   ]
  },
  {
   "cell_type": "code",
   "execution_count": 7,
   "metadata": {},
   "outputs": [
    {
     "data": {
      "text/plain": [
       "[2, 4, 6, 8]"
      ]
     },
     "execution_count": 7,
     "metadata": {},
     "output_type": "execute_result"
    }
   ],
   "source": [
    "lst = [1,2,3,4,5,6,7,8,9]\n",
    "\n",
    "# now let us say i want to form another list with only even nos \n",
    "new_lst = list(filter(even, lst))\n",
    "new_lst\n",
    "\n"
   ]
  },
  {
   "cell_type": "code",
   "execution_count": 24,
   "metadata": {},
   "outputs": [
    {
     "data": {
      "text/plain": [
       "[6, 7, 8, 9]"
      ]
     },
     "execution_count": 24,
     "metadata": {},
     "output_type": "execute_result"
    }
   ],
   "source": [
    "# filter with lambda \n",
    "numbers = [1,2,3,4,5,6,7,8,9]\n",
    "\n",
    "greater_than_5 = list(filter(lambda x : x > 5, numbers))\n",
    "greater_than_5 "
   ]
  },
  {
   "cell_type": "code",
   "execution_count": 32,
   "metadata": {},
   "outputs": [
    {
     "name": "stdout",
     "output_type": "stream",
     "text": [
      "Option1:\n",
      " [6, 8]\n",
      "Option2:\n",
      " [6, 8]\n"
     ]
    }
   ],
   "source": [
    "## filter with a lambda function and mutiple conditions \n",
    "\n",
    "numbers = [1,2,3,4,5,6,7,8,9]\n",
    "\n",
    "# checking if a number is even \n",
    "even_and_greater_than_five = list(filter(lambda x: x>5, filter(lambda x: x%2==0, numbers)))\n",
    "\n",
    "even_and_greater_than_5 = list(filter(lambda x: x>5 and x%2==0 , numbers))\n",
    "# even_and_greater_than_five = list(filter(lambda x: x>5, even_and_greater_than_five))\n",
    "print('Option1:\\n', even_and_greater_than_five)\n",
    "print('Option2:\\n', even_and_greater_than_5)"
   ]
  },
  {
   "cell_type": "code",
   "execution_count": 39,
   "metadata": {},
   "outputs": [
    {
     "data": {
      "text/plain": [
       "[{'Name': 'Manish', 'Age': 32}, {'Name': 'Nisha', 'Age': 27}]"
      ]
     },
     "execution_count": 39,
     "metadata": {},
     "output_type": "execute_result"
    }
   ],
   "source": [
    "# filter() to check if age > 25 in a dictionary\n",
    "\n",
    "people = [{'Name': 'Manish', 'Age': 32}, {'Name': 'Nisha', 'Age': 27}, {'Name':'Ayansh', 'Age': 5}]\n",
    "\n",
    "list(filter(lambda x: x['Age']>25, people))"
   ]
  }
 ],
 "metadata": {
  "kernelspec": {
   "display_name": ".venv",
   "language": "python",
   "name": "python3"
  },
  "language_info": {
   "codemirror_mode": {
    "name": "ipython",
    "version": 3
   },
   "file_extension": ".py",
   "mimetype": "text/x-python",
   "name": "python",
   "nbconvert_exporter": "python",
   "pygments_lexer": "ipython3",
   "version": "3.9.6"
  }
 },
 "nbformat": 4,
 "nbformat_minor": 2
}
